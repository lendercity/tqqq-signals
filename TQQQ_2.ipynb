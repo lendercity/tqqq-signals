{
  "nbformat": 4,
  "nbformat_minor": 0,
  "metadata": {
    "colab": {
      "provenance": [],
      "authorship_tag": "ABX9TyOpSqBzdqF2y7Bzs8xnrD59",
      "include_colab_link": true
    },
    "kernelspec": {
      "name": "python3",
      "display_name": "Python 3"
    },
    "language_info": {
      "name": "python"
    }
  },
  "cells": [
    {
      "cell_type": "markdown",
      "metadata": {
        "id": "view-in-github",
        "colab_type": "text"
      },
      "source": [
        "<a href=\"https://colab.research.google.com/github/lendercity/tqqq-signals/blob/main/TQQQ_2.ipynb\" target=\"_parent\"><img src=\"https://colab.research.google.com/assets/colab-badge.svg\" alt=\"Open In Colab\"/></a>"
      ]
    },
    {
      "cell_type": "code",
      "execution_count": 17,
      "metadata": {
        "colab": {
          "base_uri": "https://localhost:8080/"
        },
        "id": "jDgbdtDJd5Nj",
        "outputId": "cbb8f783-cc41-4e09-842e-1d63253e14f8"
      },
      "outputs": [
        {
          "output_type": "stream",
          "name": "stderr",
          "text": [
            "\r[*********************100%***********************]  1 of 1 completed"
          ]
        },
        {
          "output_type": "stream",
          "name": "stdout",
          "text": [
            "TQQQ Signal: BUY | Confidence: 0.55 | Position: 55%\n"
          ]
        },
        {
          "output_type": "stream",
          "name": "stderr",
          "text": [
            "\n"
          ]
        }
      ],
      "source": [
        "# TQQQ Daily Trading Signal with Probabilistic Position Sizing\n",
        "\n",
        "import yfinance as yf\n",
        "import pandas as pd\n",
        "import numpy as np\n",
        "from sklearn.preprocessing import StandardScaler\n",
        "from sklearn.ensemble import RandomForestClassifier\n",
        "import joblib\n",
        "import os\n",
        "\n",
        "MODEL_FILE = \"tqqq_model.pkl\"\n",
        "SCALER_FILE = \"tqqq_scaler.pkl\"\n",
        "\n",
        "# ===== 1. Download data =====\n",
        "ticker = \"TQQQ\"\n",
        "data = yf.download(ticker, period=\"5y\", interval=\"1d\", auto_adjust=False)\n",
        "data['Return'] = data['Close'].pct_change()\n",
        "\n",
        "# Ensure Close is Series\n",
        "close = data['Close']\n",
        "if isinstance(close, pd.DataFrame):\n",
        "    close = close.iloc[:, 0]\n",
        "data['Close_Only'] = close\n",
        "\n",
        "# ===== 2. Features =====\n",
        "data['SMA10'] = data['Close_Only'].rolling(10).mean()\n",
        "data['SMA20'] = data['Close_Only'].rolling(20).mean()\n",
        "data['EMA10'] = data['Close_Only'].ewm(span=10, adjust=False).mean()\n",
        "data['EMA20'] = data['Close_Only'].ewm(span=20, adjust=False).mean()\n",
        "data['Momentum'] = data['Close_Only'] - data['Close_Only'].shift(5)\n",
        "data['Volatility'] = data['Close_Only'].rolling(10).std()\n",
        "\n",
        "# MACD\n",
        "data['EMA12'] = data['Close_Only'].ewm(span=12, adjust=False).mean()\n",
        "data['EMA26'] = data['Close_Only'].ewm(span=26, adjust=False).mean()\n",
        "data['MACD'] = data['EMA12'] - data['EMA26']\n",
        "data['Signal_line'] = data['MACD'].ewm(span=9, adjust=False).mean()\n",
        "\n",
        "# Bollinger Bands\n",
        "window = 20\n",
        "bb_mid = data['Close_Only'].rolling(window, min_periods=window).mean()\n",
        "bb_std = data['Close_Only'].rolling(window, min_periods=window).std()\n",
        "data['BB_Mid'] = bb_mid\n",
        "data['BB_Upper'] = bb_mid + 2 * bb_std\n",
        "data['BB_Lower'] = bb_mid - 2 * bb_std\n",
        "\n",
        "# RSI\n",
        "delta = data['Close_Only'].diff()\n",
        "gain = np.where(delta > 0, delta, 0)\n",
        "loss = np.where(delta < 0, -delta, 0)\n",
        "avg_gain = pd.Series(gain, index=data.index).rolling(14).mean()\n",
        "avg_loss = pd.Series(loss, index=data.index).rolling(14).mean()\n",
        "rs = avg_gain / avg_loss\n",
        "data['RSI'] = 100 - (100 / (1 + rs))\n",
        "\n",
        "# Target\n",
        "data['Target'] = np.where(data['Return'].shift(-1) > 0, 1, 0)\n",
        "data.dropna(inplace=True)\n",
        "\n",
        "features = [\n",
        "    'SMA10','SMA20','EMA10','EMA20','Momentum',\n",
        "    'Volatility','MACD','Signal_line','BB_Upper','BB_Lower','RSI'\n",
        "]\n",
        "X = data[features]\n",
        "y = data['Target']\n",
        "\n",
        "# ===== 3. Train/Test Split =====\n",
        "X_train = X.iloc[:-1]\n",
        "y_train = y.iloc[:-1]\n",
        "\n",
        "# Load or fit scaler\n",
        "if os.path.exists(SCALER_FILE):\n",
        "    scaler = joblib.load(SCALER_FILE)\n",
        "else:\n",
        "    scaler = StandardScaler()\n",
        "    scaler.fit(X_train)\n",
        "    joblib.dump(scaler, SCALER_FILE)\n",
        "\n",
        "X_train_scaled = scaler.transform(X_train)\n",
        "\n",
        "# Load or train model\n",
        "if os.path.exists(MODEL_FILE):\n",
        "    model = joblib.load(MODEL_FILE)\n",
        "else:\n",
        "    model = RandomForestClassifier(n_estimators=300, max_depth=5, random_state=42)\n",
        "    model.fit(X_train_scaled, y_train)\n",
        "    joblib.dump(model, MODEL_FILE)\n",
        "\n",
        "# ===== 4. Today's Signal =====\n",
        "today_features = X.iloc[-1].values.reshape(1, -1)\n",
        "today_scaled = scaler.transform(today_features)\n",
        "\n",
        "signal = model.predict(today_scaled)[0]\n",
        "proba = model.predict_proba(today_scaled)[0][1]  # probability of UP (class 1)\n",
        "\n",
        "# Map probability -> position size (10% to 100%)\n",
        "if signal == 1:\n",
        "    # position grows with confidence above 0.5\n",
        "    position_size = max(0.1, min(1.0, proba))\n",
        "    signal_text = f\"TQQQ Signal: BUY | Confidence: {proba:.2f} | Position: {position_size*100:.0f}%\"\n",
        "else:\n",
        "    # SELL/short signal → confidence is probability of DOWN = 1 - proba\n",
        "    confidence = 1 - proba\n",
        "    position_size = max(0.1, min(1.0, confidence))\n",
        "    signal_text = f\"TQQQ Signal: SELL | Confidence: {confidence:.2f} | Position: {position_size*100:.0f}%\"\n",
        "\n",
        "print(signal_text)\n"
      ]
    }
  ]
}